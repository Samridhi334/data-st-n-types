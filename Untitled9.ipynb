{
  "nbformat": 4,
  "nbformat_minor": 0,
  "metadata": {
    "colab": {
      "provenance": []
    },
    "kernelspec": {
      "name": "python3",
      "display_name": "Python 3"
    },
    "language_info": {
      "name": "python"
    }
  },
  "cells": [
    {
      "cell_type": "markdown",
      "source": [],
      "metadata": {
        "id": "ZjBeKXc08yUI"
      }
    },
    {
      "cell_type": "code",
      "execution_count": null,
      "metadata": {
        "id": "TNXmzsn68xjr"
      },
      "outputs": [],
      "source": []
    },
    {
      "cell_type": "markdown",
      "source": [
        "1.\tWhat are data structures, and why are they important?\n",
        "Data structures are ways of organizing, storing, and managing data in a computer so that it can be accessed and modified efficiently. They are important because they allow for efficient data handling, algorithm implementation, and resource management in programming.\n",
        "\t2.\tExplain the difference between mutable and immutable data types with examples.\n",
        "\t•\tMutable: Can be changed after creation. Example: Lists ([1, 2, 3]) and dictionaries ({\"key\": \"value\"}).\n",
        "\t•\tImmutable: Cannot be changed after creation. Example: Tuples ((1, 2, 3)) and strings (\"Hello\").\n",
        "\t3.\tWhat are the main differences between lists and tuples in Python?\n",
        "\t•\tLists: Mutable, defined using square brackets ([ ]), and slower.\n",
        "\t•\tTuples: Immutable, defined using parentheses (( )), and faster.\n",
        "\t4.\tDescribe how dictionaries store data.\n",
        "Dictionaries store data as key-value pairs in a hash table. Keys are hashed, and their corresponding values are stored in a location determined by the hash.\n",
        "\t5.\tWhy might you use a set instead of a list in Python?\n",
        "To store unique items only and perform operations like unions, intersections, and differences efficiently.\n",
        "\t6.\tWhat is a string in Python, and how is it different from a list?\n",
        "A string is an immutable sequence of characters, while a list is a mutable sequence of elements (which can include different types).\n",
        "\t7.\tHow do tuples ensure data integrity in Python?\n",
        "Tuples are immutable, so once created, their content cannot be changed, ensuring the data remains constant.\n",
        "\t8.\tWhat is a hash table, and how does it relate to dictionaries in Python?\n",
        "A hash table is a data structure that maps keys to values using a hash function. Dictionaries in Python are implemented using hash tables.\n",
        "\t9.\tCan lists contain different data types in Python?\n",
        "Yes, lists can store elements of different types (e.g., [1, \"string\", 3.14]).\n",
        "\t10.\tExplain why strings are immutable in Python.\n",
        "Strings are immutable to improve performance and ensure thread safety since multiple references can share the same data without conflicts.\n",
        "\t11.\tWhat advantages do dictionaries offer over lists for certain tasks?\n",
        "Dictionaries provide fast lookups, insertion, and deletion using keys, making them ideal for tasks requiring key-based access.\n",
        "\t12.\tDescribe a scenario where using a tuple would be preferable over a list.\n",
        "Tuples are preferable when the data should not change, such as representing a fixed set of coordinates (e.g., (3, 5)).\n",
        "\t13.\tHow do sets handle duplicate values in Python?\n",
        "Sets automatically remove duplicates and store only unique elements.\n",
        "\t14.\tHow does the “in” keyword work differently for lists and dictionaries?\n",
        "\t•\tFor lists: Checks if a value exists in the list.\n",
        "\t•\tFor dictionaries: Checks if a key exists in the dictionary.\n",
        "\t15.\tCan you modify the elements of a tuple? Explain why or why not.\n",
        "No, tuples are immutable, so their elements cannot be modified after creation.\n",
        "\t16.\tWhat is a nested dictionary, and give an example of its use case?\n",
        "A dictionary within another dictionary. Example: Storing student details by their ID:\n",
        "\n",
        "students = {\n",
        "    1: {\"name\": \"Alice\", \"age\": 20},\n",
        "    2: {\"name\": \"Bob\", \"age\": 22}\n",
        "}\n",
        "\n",
        "\n",
        "\t17.\tDescribe the time complexity of accessing elements in a dictionary.\n",
        "Accessing elements in a dictionary has an average time complexity of O(1) due to hashing.\n",
        "\t18.\tIn what situations are lists preferred over dictionaries?\n",
        "Lists are preferred when the order of elements matters or when you need to store sequential data without key-value relationships.\n",
        "\t19.\tWhy are dictionaries considered unordered, and how does that affect data retrieval?\n",
        "Dictionaries before Python 3.7 were unordered, meaning the insertion order wasn’t guaranteed. However, from Python 3.7 onwards, insertion order is preserved. The retrieval process is still key-based, not index-based.\n",
        "\t20.\tExplain the difference between a list and a dictionary in terms of data retrieval.\n",
        "\t•\tLists: Use index-based retrieval.\n",
        "\t•\tDictionaries: Use key-based retrieval, which is faster for lookups"
      ],
      "metadata": {
        "id": "hXFsS-Hd86Xb"
      }
    },
    {
      "cell_type": "code",
      "source": [
        "#1 Create a string with your name\n",
        "my_name = \"sam\"\n",
        "\n",
        "# Print the string\n",
        "print(my_name)"
      ],
      "metadata": {
        "colab": {
          "base_uri": "https://localhost:8080/"
        },
        "id": "q7oh9SYf88MC",
        "outputId": "2d25af9d-3b07-4d2a-ba3a-1942cd5316d3"
      },
      "execution_count": 1,
      "outputs": [
        {
          "output_type": "stream",
          "name": "stdout",
          "text": [
            "sam\n"
          ]
        }
      ]
    },
    {
      "cell_type": "code",
      "source": [
        "#2 a=\"hello world\"\n",
        "a = \"hello world\"\n",
        "len(a) # Calculate the length of the string\n",
        "print(len(a)) #Print the length of the string"
      ],
      "metadata": {
        "colab": {
          "base_uri": "https://localhost:8080/"
        },
        "id": "Ta_qX21o92AZ",
        "outputId": "6c42f19e-eb4b-4367-bb57-f36f13b5142d"
      },
      "execution_count": 4,
      "outputs": [
        {
          "output_type": "stream",
          "name": "stdout",
          "text": [
            "11\n"
          ]
        }
      ]
    },
    {
      "cell_type": "code",
      "source": [
        "#3 Define the string\n",
        "my_string = \"Python Programming\"\n",
        "\n",
        "# Slice the first 3 characters\n",
        "sliced_string = my_string[:3]\n",
        "\n",
        "# Print the result\n",
        "print(\"The first 3 characters are:\", sliced_string)"
      ],
      "metadata": {
        "colab": {
          "base_uri": "https://localhost:8080/"
        },
        "id": "yCMcPc5R-t0s",
        "outputId": "a303c87d-9fce-458b-d418-55e6c05d1506"
      },
      "execution_count": 5,
      "outputs": [
        {
          "output_type": "stream",
          "name": "stdout",
          "text": [
            "The first 3 characters are: Pyt\n"
          ]
        }
      ]
    },
    {
      "cell_type": "code",
      "source": [
        "#4 Define the string\n",
        "my_string = \"hello\"\n",
        "\n",
        "# Convert the string to uppercase\n",
        "uppercase_string = my_string.upper()\n",
        "\n",
        "# Print the result\n",
        "print(\"The string in uppercase is:\", uppercase_string)"
      ],
      "metadata": {
        "colab": {
          "base_uri": "https://localhost:8080/"
        },
        "id": "tlzMGnnx_d9O",
        "outputId": "da358caa-23a4-4736-cbd9-59b3634af33f"
      },
      "execution_count": 6,
      "outputs": [
        {
          "output_type": "stream",
          "name": "stdout",
          "text": [
            "The string in uppercase is: HELLO\n"
          ]
        }
      ]
    },
    {
      "cell_type": "code",
      "source": [
        "#5 Define the string\n",
        "my_string = \"i like apple\"\n",
        "\n",
        "# Replace \"apple\" with \"orange\"\n",
        "new_string = my_string.replace(\"apple\", \"orange\")\n",
        "\n",
        "# Print the result\n",
        "print(\"Updated string:\", new_string)"
      ],
      "metadata": {
        "colab": {
          "base_uri": "https://localhost:8080/"
        },
        "id": "gaO4_g0l_4-_",
        "outputId": "247bd3c4-d57d-4cc5-a732-2e966ba02f0a"
      },
      "execution_count": 7,
      "outputs": [
        {
          "output_type": "stream",
          "name": "stdout",
          "text": [
            "Updated string: i like orange\n"
          ]
        }
      ]
    },
    {
      "cell_type": "code",
      "source": [
        "#6 Create a list with numbers 1 to 5\n",
        "my_list = [1, 2, 3, 4, 5]\n",
        "\n",
        "# Print the list\n",
        "print(\"The list is:\", my_list)"
      ],
      "metadata": {
        "colab": {
          "base_uri": "https://localhost:8080/"
        },
        "id": "iYRCh68cAV_5",
        "outputId": "5d14ee2b-135d-44cb-a21d-6e6fc773e225"
      },
      "execution_count": 8,
      "outputs": [
        {
          "output_type": "stream",
          "name": "stdout",
          "text": [
            "The list is: [1, 2, 3, 4, 5]\n"
          ]
        }
      ]
    },
    {
      "cell_type": "code",
      "source": [
        "#7 Define the list\n",
        "my_list = [1, 2, 3, 4, 5]\n",
        "\n",
        "# Append the number 10 to the list\n",
        "my_list.append(10)\n",
        "\n",
        "# Print the updated list\n",
        "print(\"Updated list:\", my_list)"
      ],
      "metadata": {
        "colab": {
          "base_uri": "https://localhost:8080/"
        },
        "id": "H-n8wObPAwd0",
        "outputId": "2db4ce09-3896-4560-8542-9e0bb57b4c88"
      },
      "execution_count": 9,
      "outputs": [
        {
          "output_type": "stream",
          "name": "stdout",
          "text": [
            "Updated list: [1, 2, 3, 4, 5, 10]\n"
          ]
        }
      ]
    },
    {
      "cell_type": "code",
      "source": [
        "#8 Define the list\n",
        "my_list = [1, 2, 3, 4, 5]\n",
        "\n",
        "# Remove the number 3 from the list\n",
        "my_list.remove(3)\n",
        "\n",
        "# Print the updated list\n",
        "print(\"Updated list:\", my_list)"
      ],
      "metadata": {
        "colab": {
          "base_uri": "https://localhost:8080/"
        },
        "id": "74VSQFTpBZES",
        "outputId": "9403e3bb-f49c-4632-c2b6-c5998fc987b7"
      },
      "execution_count": 10,
      "outputs": [
        {
          "output_type": "stream",
          "name": "stdout",
          "text": [
            "Updated list: [1, 2, 4, 5]\n"
          ]
        }
      ]
    },
    {
      "cell_type": "code",
      "source": [
        "#9 my_list = ['a', 'b', 'c', 'd']\n",
        "second_element = my_list[1]\n",
        "print(second_element)"
      ],
      "metadata": {
        "colab": {
          "base_uri": "https://localhost:8080/"
        },
        "id": "_iE9mh8dB2mx",
        "outputId": "7d5f6816-5b7b-4872-fc01-4ce3eeb3d000"
      },
      "execution_count": 11,
      "outputs": [
        {
          "output_type": "stream",
          "name": "stdout",
          "text": [
            "2\n"
          ]
        }
      ]
    },
    {
      "cell_type": "code",
      "source": [
        "#10 my_list = [10, 20, 30, 40, 50]\n",
        "reversed_list = my_list[::-1]\n",
        "print(reversed_list)"
      ],
      "metadata": {
        "colab": {
          "base_uri": "https://localhost:8080/"
        },
        "id": "iCbxQurzCBIN",
        "outputId": "039b7fc1-a002-43e8-be26-15deb29c45d1"
      },
      "execution_count": 12,
      "outputs": [
        {
          "output_type": "stream",
          "name": "stdout",
          "text": [
            "[5, 4, 2, 1]\n"
          ]
        }
      ]
    },
    {
      "cell_type": "code",
      "source": [
        "#11 Create a tuple with the elements 10, 20, 30\n",
        "my_tuple = (10, 20, 30)\n",
        "\n",
        "# Print the tuple\n",
        "print(\"The tuple is:\", my_tuple)"
      ],
      "metadata": {
        "colab": {
          "base_uri": "https://localhost:8080/"
        },
        "id": "MiIqmXw_CN9p",
        "outputId": "8a6b8764-066a-4ed4-c90e-60de8799fc91"
      },
      "execution_count": 13,
      "outputs": [
        {
          "output_type": "stream",
          "name": "stdout",
          "text": [
            "The tuple is: (10, 20, 30)\n"
          ]
        }
      ]
    },
    {
      "cell_type": "code",
      "source": [
        "#12 Define the tuple\n",
        "my_tuple = ('apple', 'banana', 'cherry')\n",
        "\n",
        "# Access the first element\n",
        "first_element = my_tuple[0]\n",
        "\n",
        "# Print the first element\n",
        "print(first_element)"
      ],
      "metadata": {
        "colab": {
          "base_uri": "https://localhost:8080/"
        },
        "id": "adb60R06CoHn",
        "outputId": "46c07b41-5585-4e5d-fa3c-d10b7312e94c"
      },
      "execution_count": 14,
      "outputs": [
        {
          "output_type": "stream",
          "name": "stdout",
          "text": [
            "apple\n"
          ]
        }
      ]
    },
    {
      "cell_type": "code",
      "source": [
        "#13 my_tuple = (1, 2, 3, 2, 4, 2)\n",
        "count_of_2 = my_tuple.count(2)  # Use the count() method\n",
        "print(f\"The number 2 appears {count_of_2} times in the tuple.\")"
      ],
      "metadata": {
        "colab": {
          "base_uri": "https://localhost:8080/"
        },
        "id": "Pq8z8_V7DfNu",
        "outputId": "f369fcba-9493-4dd8-9eba-477f5c29a0fe"
      },
      "execution_count": 15,
      "outputs": [
        {
          "output_type": "stream",
          "name": "stdout",
          "text": [
            "The number 2 appears 0 times in the tuple.\n"
          ]
        }
      ]
    },
    {
      "cell_type": "code",
      "source": [
        "#14\n",
        "my_tuple = ('dog', 'cat', 'rabbit')\n",
        "index_of_cat = my_tuple.index('cat')\n",
        "print(f\"The index of 'cat' is: {index_of_cat}\")"
      ],
      "metadata": {
        "colab": {
          "base_uri": "https://localhost:8080/"
        },
        "id": "zI9bYxxmDo_8",
        "outputId": "491b7960-b550-4230-92b5-82f57f3e384d"
      },
      "execution_count": 16,
      "outputs": [
        {
          "output_type": "stream",
          "name": "stdout",
          "text": [
            "The index of 'cat' is: 1\n"
          ]
        }
      ]
    },
    {
      "cell_type": "code",
      "source": [
        "#15 my_tuple = ('apple', 'orange', 'banana')\n",
        "if 'banana' in my_tuple:\n",
        "    print(\"Banana is in the tuple.\")\n",
        "else:\n",
        "    print(\"Banana is not in the tuple.\")"
      ],
      "metadata": {
        "colab": {
          "base_uri": "https://localhost:8080/"
        },
        "id": "kKeQ1saoDtpD",
        "outputId": "38265d56-5027-4eba-b8fc-2ce8eaf0c7bd"
      },
      "execution_count": 17,
      "outputs": [
        {
          "output_type": "stream",
          "name": "stdout",
          "text": [
            "Banana is not in the tuple.\n"
          ]
        }
      ]
    },
    {
      "cell_type": "code",
      "source": [
        "#16 Create a set with elements 1, 2, 3, 4, 5\n",
        "my_set = {1, 2, 3, 4, 5}\n",
        "\n",
        "# Print the set\n",
        "print(my_set)"
      ],
      "metadata": {
        "colab": {
          "base_uri": "https://localhost:8080/"
        },
        "id": "quZuTessEVAQ",
        "outputId": "37bca9ee-aa60-41d2-d738-b6a5af17b7b9"
      },
      "execution_count": 18,
      "outputs": [
        {
          "output_type": "stream",
          "name": "stdout",
          "text": [
            "{1, 2, 3, 4, 5}\n"
          ]
        }
      ]
    },
    {
      "cell_type": "code",
      "source": [
        "#17 my_set = {1, 2, 3, 4}\n",
        "my_set.add(6)  # Adds the element 6 to the set\n",
        "print(my_set)"
      ],
      "metadata": {
        "colab": {
          "base_uri": "https://localhost:8080/"
        },
        "id": "HBYu7MmaEXxF",
        "outputId": "9c02c53b-609c-4f38-e568-e92180e614c4"
      },
      "execution_count": 19,
      "outputs": [
        {
          "output_type": "stream",
          "name": "stdout",
          "text": [
            "{1, 2, 3, 4, 5, 6}\n"
          ]
        }
      ]
    },
    {
      "cell_type": "code",
      "source": [
        "#18 my_tuple = (10, 20, 30)\n",
        "print(my_tuple)"
      ],
      "metadata": {
        "colab": {
          "base_uri": "https://localhost:8080/"
        },
        "id": "W4o33XVQEjQU",
        "outputId": "1363e7f2-74e9-406d-e3fe-ed5d7d13abee"
      },
      "execution_count": 20,
      "outputs": [
        {
          "output_type": "stream",
          "name": "stdout",
          "text": [
            "('dog', 'cat', 'rabbit')\n"
          ]
        }
      ]
    },
    {
      "cell_type": "code",
      "source": [
        "#19 my_tuple = ('apple', 'banana', 'cherry')\n",
        "first_element = my_tuple[0]  # Index 0 for the first element\n",
        "print(first_element)"
      ],
      "metadata": {
        "colab": {
          "base_uri": "https://localhost:8080/"
        },
        "id": "TRsDK0RgEuIM",
        "outputId": "4bf45b41-bb34-47c6-f674-2c99f9d291cf"
      },
      "execution_count": 21,
      "outputs": [
        {
          "output_type": "stream",
          "name": "stdout",
          "text": [
            "dog\n"
          ]
        }
      ]
    },
    {
      "cell_type": "code",
      "source": [
        "#20\n",
        "my_tuple = (1, 2, 3, 2, 4, 2)\n",
        "count_of_2 = my_tuple.count(2)  # Count occurrences of 2\n",
        "print(count_of_2)"
      ],
      "metadata": {
        "colab": {
          "base_uri": "https://localhost:8080/"
        },
        "id": "YaXrsGauE4d_",
        "outputId": "4bf84aef-25cf-4826-dca0-25f3063ba7c1"
      },
      "execution_count": 23,
      "outputs": [
        {
          "output_type": "stream",
          "name": "stdout",
          "text": [
            "3\n"
          ]
        }
      ]
    },
    {
      "cell_type": "code",
      "source": [
        "#21 Define the tuple\n",
        "my_tuple = ('dog', 'cat', 'rabbit')\n",
        "\n",
        "# Find the index of the element \"cat\"\n",
        "index_of_cat = my_tuple.index('cat')\n",
        "\n",
        "# Print the index\n",
        "print(index_of_cat)"
      ],
      "metadata": {
        "colab": {
          "base_uri": "https://localhost:8080/"
        },
        "id": "yyW7f0eVFnUP",
        "outputId": "c07f0886-8d94-4075-af89-afee9965b82d"
      },
      "execution_count": 24,
      "outputs": [
        {
          "output_type": "stream",
          "name": "stdout",
          "text": [
            "1\n"
          ]
        }
      ]
    },
    {
      "cell_type": "code",
      "source": [
        "#22 my_tuple = ('apple', 'orange', 'banana')\n",
        "if 'banana' in my_tuple:\n",
        "    print(\"Banana is in the tuple.\")\n",
        "else:\n",
        "    print(\"Banana is not in the tuple.\")"
      ],
      "metadata": {
        "colab": {
          "base_uri": "https://localhost:8080/"
        },
        "id": "pwopXKRuFrTS",
        "outputId": "ea861f98-240d-44a8-92fc-6c503ca5efc2"
      },
      "execution_count": 25,
      "outputs": [
        {
          "output_type": "stream",
          "name": "stdout",
          "text": [
            "Banana is not in the tuple.\n"
          ]
        }
      ]
    },
    {
      "cell_type": "code",
      "source": [
        "#23 my_set = {1, 2, 3, 4, 5}\n",
        "print(my_set)"
      ],
      "metadata": {
        "colab": {
          "base_uri": "https://localhost:8080/"
        },
        "id": "oG0damSwFy1Q",
        "outputId": "099037de-b44a-4037-e9c9-55bbab70e13a"
      },
      "execution_count": 26,
      "outputs": [
        {
          "output_type": "stream",
          "name": "stdout",
          "text": [
            "{1, 2, 3, 4, 5, 6}\n"
          ]
        }
      ]
    },
    {
      "cell_type": "code",
      "source": [
        "#24 Define the set\n",
        "my_set = {1, 2, 3, 4}\n",
        "\n",
        "# Add the element 6 to the set\n",
        "my_set.add(6)\n",
        "\n",
        "# Print the updated set\n",
        "print(my_set)"
      ],
      "metadata": {
        "colab": {
          "base_uri": "https://localhost:8080/"
        },
        "id": "zCuqszqaGJ1J",
        "outputId": "6e443fa3-1fd1-42ef-fd4e-d8c8f614f723"
      },
      "execution_count": 27,
      "outputs": [
        {
          "output_type": "stream",
          "name": "stdout",
          "text": [
            "{1, 2, 3, 4, 6}\n"
          ]
        }
      ]
    }
  ]
}